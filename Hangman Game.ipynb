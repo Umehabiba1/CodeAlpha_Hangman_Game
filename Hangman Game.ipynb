{
 "cells": [
  {
   "cell_type": "markdown",
   "metadata": {},
   "source": [
    "## Importing the Library Random to generate random choice"
   ]
  },
  {
   "cell_type": "code",
   "execution_count": 21,
   "metadata": {},
   "outputs": [],
   "source": [
    "import random"
   ]
  },
  {
   "cell_type": "markdown",
   "metadata": {},
   "source": [
    "## Function for random word selection from the list"
   ]
  },
  {
   "cell_type": "code",
   "execution_count": 22,
   "metadata": {},
   "outputs": [],
   "source": [
    "\n",
    "# Define the maximum number of incorrect guesses allowed\n",
    "MAX_GUESSES = 6\n",
    "\n",
    "# Get a random word from a list of words\n",
    "def get_random_word():\n",
    "    words = [\"apple\", \"banana\", \"cat\", \"dog\", \"elephant\"]\n",
    "    return random.choice(words)\n",
    "\n",
    "# Display the current state of the word, with underscores representing unknown letters\n",
    "def display_word(word, guessed_letters):\n",
    "    for letter in word:\n",
    "        if letter in guessed_letters:\n",
    "            print(letter, end=\"\")\n",
    "        else:\n",
    "            print(\"X\", end=\"\")\n",
    "    print()"
   ]
  },
  {
   "cell_type": "markdown",
   "metadata": {},
   "source": [
    "## Function for the Hangman Game and giving the user 6 chances to guess the word"
   ]
  },
  {
   "cell_type": "code",
   "execution_count": 23,
   "metadata": {},
   "outputs": [],
   "source": [
    "# Get the player's guess\n",
    "def get_player_guess():\n",
    "    guess = input(\"Enter a letter: \")\n",
    "    return guess\n",
    "\n",
    "# Check if the guess is correct\n",
    "def is_guess_correct(guess, word):\n",
    "    return guess in word\n",
    "\n",
    "# Update the guessed letters list\n",
    "def update_guessed_letters(guessed_letters, guess):\n",
    "    guessed_letters.append(guess)\n",
    "\n",
    "# Check if the player has won the game\n",
    "def is_game_won(word, guessed_letters):\n",
    "    return all(letter in guessed_letters for letter in word)\n",
    "\n",
    "# Check if the player has lost the game\n",
    "def is_game_lost(guessed_letters):\n",
    "    return len(guessed_letters) == MAX_GUESSES"
   ]
  },
  {
   "cell_type": "markdown",
   "metadata": {},
   "source": [
    "## Starting the Game"
   ]
  },
  {
   "cell_type": "code",
   "execution_count": 24,
   "metadata": {},
   "outputs": [
    {
     "name": "stdout",
     "output_type": "stream",
     "text": [
      "XXXXX\n",
      "XppXX\n",
      "appXX\n",
      "appXe\n",
      "Congratulations! You won!\n"
     ]
    }
   ],
   "source": [
    "# Start the game loop\n",
    "def main():\n",
    "    # Get a random word\n",
    "    word = get_random_word()\n",
    "\n",
    "    # Initialize the guessed letters list\n",
    "    guessed_letters = []\n",
    "\n",
    "    # Start the game loop\n",
    "    while True:\n",
    "        # Display the current state of the word\n",
    "        display_word(word, guessed_letters)\n",
    "\n",
    "        # Get the player's guess\n",
    "        guess = get_player_guess()\n",
    "\n",
    "        # Check if the guess is correct\n",
    "        if is_guess_correct(guess, word):\n",
    "            # Update the guessed letters list\n",
    "            update_guessed_letters(guessed_letters, guess)\n",
    "\n",
    "            # Check if the player has won the game\n",
    "            if is_game_won(word, guessed_letters):\n",
    "                print(\"Congratulations! You won!\")\n",
    "                break\n",
    "        else:\n",
    "            # Update the guessed letters list\n",
    "            update_guessed_letters(guessed_letters, guess)\n",
    "\n",
    "            # Check if the player has lost the game\n",
    "            if is_game_lost(guessed_letters):\n",
    "                print(\"Sorry, you lost.\")\n",
    "                break\n",
    "\n",
    "if __name__ == \"__main__\":\n",
    "    main()\n"
   ]
  },
  {
   "cell_type": "code",
   "execution_count": null,
   "metadata": {},
   "outputs": [],
   "source": []
  }
 ],
 "metadata": {
  "kernelspec": {
   "display_name": "Python 3",
   "language": "python",
   "name": "python3"
  },
  "language_info": {
   "codemirror_mode": {
    "name": "ipython",
    "version": 3
   },
   "file_extension": ".py",
   "mimetype": "text/x-python",
   "name": "python",
   "nbconvert_exporter": "python",
   "pygments_lexer": "ipython3",
   "version": "3.11.1"
  }
 },
 "nbformat": 4,
 "nbformat_minor": 2
}
